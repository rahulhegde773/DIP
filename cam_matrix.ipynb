import cv2
import numpy as np

def find_checkerboard_corners(image, pattern_size):
    gray = cv2.cvtColor(image, cv2.COLOR_BGR2GRAY)
    ret, corners = cv2.findChessboardCorners(gray, pattern_size, None)

    if ret:
        return corners
    else:
        print("Checkerboard pattern not found in the image.")
        return None

def calibrate_camera(image, pattern_size):
    corners = find_checkerboard_corners(image, pattern_size)

    if corners is not None:
        obj_points = []  # 3D points in real world space
        img_points = []  # 2D points in image plane

        # Prepare object points, like (0,0,0), (1,0,0), (2,0,0), ..., (pattern_size[0]-1, pattern_size[1]-1, 0)
        objp = np.zeros((pattern_size[0] * pattern_size[1], 3), np.float32)
        objp[:, :2] = np.mgrid[0:pattern_size[0], 0:pattern_size[1]].T.reshape(-1, 2)

        obj_points.append(objp)
        img_points.append(corners)

        ret, mtx, dist, rvecs, tvecs = cv2.calibrateCamera(obj_points, img_points, gray.shape[::-1], None, None)

        return mtx
    else:
        return None

def main():
    # Input image path
    image_path = ("/content/vincent-van-zalinge-vUNQaTtZeOo-unsplash.jpg")

    # Load input image
    input_image = cv2.imread(image_path)

    if input_image is not None:
        # Define the size of the checkerboard pattern
        pattern_size = (9, 6)  # Change this according to your calibration pattern

        # Calibrate the camera
        camera_matrix = calibrate_camera(input_image, pattern_size)

        if camera_matrix is not None:
            # Print the camera matrix
            print("Camera matrix (K):\n", camera_matrix)
        else:
            print("Failed to calibrate the camera. Make sure the checkerboard pattern is visible in the image.")
    else:
        print("Failed to load the input image. Please check the file path.")

if __name__ == "__main__":
    main()
