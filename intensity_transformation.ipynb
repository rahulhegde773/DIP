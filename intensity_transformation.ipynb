import cv2
from google.colab.patches import cv2_imshow
import numpy as np

# Load the image
image = cv2.imread('/content/vincent-van-zalinge-vUNQaTtZeOo-unsplash.jpg', cv2.IMREAD_GRAYSCALE)

# Check if the image is loaded successfully
if image is None:
    print("Error: Image not loaded")
    exit()

# Define the intensity transformation function
def intensity_transformation(image, alpha, beta):
    transformed_image = cv2.convertScaleAbs(image, alpha=alpha, beta=beta)
    return transformed_image

# Adjust the intensity transformation parameters
alpha = 1.5  # Contrast control (1.0 means no change)
beta = 30   # Brightness control (0 means no change)

# Apply intensity transformation
transformed_image = intensity_transformation(image, alpha, beta)

# Display the original and transformed images
cv2_imshow(image)
cv2_imshow(transformed_image)
