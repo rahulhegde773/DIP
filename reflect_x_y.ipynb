from PIL import Image
import matplotlib.pyplot as plt

def reflect_image(image_path, x, y):
    # Open the image
    img = Image.open(image_path)
    
    # Calculate the reflection transformation matrix
    matrix = [1, 0, 0, 1, 0, 0]
    matrix[2] = -2 * x
    matrix[5] = -2 * y
    
    # Apply the reflection transformation
    reflected_img = img.transform(img.size, Image.AFFINE, matrix, resample=Image.BICUBIC)

    # Display the original and reflected images using matplotlib
    fig, axes = plt.subplots(1, 2, figsize=(10, 5))
    
    axes[0].imshow(img)
    axes[0].set_title('Original Image')
    axes[0].axis('off')

    axes[1].imshow(reflected_img)
    axes[1].set_title('Reflected Image')
    axes[1].axis('off')
    
    plt.show()

    # Save the reflected image
    reflected_img.save("reflected_image.png")

# Example usage
image_path = "/content/common-kingfisher-dhritiman-mukherjee-1632484087720.webp"
x_coordinate = 100  # Adjust the x-coordinate as needed
y_coordinate = 100  # Adjust the y-coordinate as needed
reflect_image(image_path, x_coordinate, y_coordinate)
