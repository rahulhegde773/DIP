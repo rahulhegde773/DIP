from PIL import Image
import matplotlib.pyplot as plt

def set_intensity(image_path, lower_threshold, upper_threshold):
    # Open the image
    img = Image.open(image_path)
    
    # Convert the image to grayscale
    img_gray = img.convert('L')
    
    # Get the pixel data
    pixels = img_gray.load()
    
    # Set intensity based on thresholds
    width, height = img_gray.size
    for y in range(height):
        for x in range(width):
            intensity = pixels[x, y]
            if intensity < lower_threshold:
                pixels[x, y] = 0  # Black
            elif intensity > upper_threshold:
                pixels[x, y] = 255  # White
    
    # Display both images
    fig, axs = plt.subplots(1, 2, figsize=(10, 5))
    axs[0].imshow(img)
    axs[0].set_title('Original Image')
    axs[0].axis('off')
    
    axs[1].imshow(img_gray, cmap='gray')
    axs[1].set_title('Modified Image')
    axs[1].axis('off')
    
    plt.show()

# Example usage
image_path = "/content/vincent-van-zalinge-vUNQaTtZeOo-unsplash.jpg"
lower_threshold = 100
upper_threshold = 100
set_intensity(image_path, lower_threshold, upper_threshold)
