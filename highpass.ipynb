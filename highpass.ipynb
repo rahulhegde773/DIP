import cv2
from google.colab.patches import cv2_imshow
import numpy as np

# Load the image
image = cv2.imread('/content/vincent-van-zalinge-vUNQaTtZeOo-unsplash.jpg')

# Check if the image is loaded successfully
if image is None:
    print("Error: Image not loaded")
    exit()

# Convert the image to grayscale
gray_image = cv2.cvtColor(image, cv2.COLOR_BGR2GRAY)

# Apply the Laplacian filter
filtered_image = cv2.Laplacian(gray_image, cv2.CV_64F)

# Convert back to uint8
filtered_image = np.uint8(np.absolute(filtered_image))

# Display the original and filtered images
cv2_imshow(gray_image)
cv2_imshow(filtered_image)
