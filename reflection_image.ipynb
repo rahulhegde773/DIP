from PIL import Image
import matplotlib.pyplot as plt

def reflect_image(image_path, reflection_type='horizontal'):
    # Open the image
    img = Image.open(image_path)

    # Determine reflection axis
    if reflection_type == 'horizontal':
        reflected_img = img.transpose(Image.FLIP_LEFT_RIGHT)
    elif reflection_type == 'vertical':
        reflected_img = img.transpose(Image.FLIP_TOP_BOTTOM)
    else:
        raise ValueError("Invalid reflection type. Choose 'horizontal' or 'vertical'.")

    # Display the original and reflected images using matplotlib
    fig, axes = plt.subplots(1, 2, figsize=(10, 5))
    axes[0].imshow(img)
    axes[0].set_title('Original Image')
    axes[0].axis('off')

    axes[1].imshow(reflected_img)
    axes[1].set_title('Reflected Image')
    axes[1].axis('off')

    plt.show()

    # Save the reflected image
    reflected_img.save("reflected_image.png")

# Example usage
image_path = "/content/common-kingfisher-dhritiman-mukherjee-1632484087720.webp"
reflect_image(image_path, reflection_type='horizontal')
