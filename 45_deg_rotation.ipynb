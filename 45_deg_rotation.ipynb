from PIL import Image
import matplotlib.pyplot as plt

def rotate_image(image_path, angle):
    # Open the image
    img = Image.open(image_path)
    
    # Rotate the image clockwise
    rotated_clockwise = img.rotate(angle)
    
    # Rotate the image counterclockwise
    rotated_counterclockwise = img.rotate(-angle)
    
    # Display the original and rotated images using matplotlib
    fig, axes = plt.subplots(1, 3, figsize=(15, 5))
    
    axes[0].imshow(img)
    axes[0].set_title('Original Image')
    axes[0].axis('off')

    axes[1].imshow(rotated_clockwise)
    axes[1].set_title(f'Rotated Clockwise ({angle} degrees)')
    axes[1].axis('off')
    
    axes[2].imshow(rotated_counterclockwise)
    axes[2].set_title(f'Rotated Anticlockwise ({angle} degrees)')
    axes[2].axis('off')
    
    plt.show()

    # Save the rotated images
    rotated_clockwise.save("rotated_clockwise.png")
    rotated_counterclockwise.save("rotated_counterclockwise.png")

# Example usage
image_path = "/content/common-kingfisher-dhritiman-mukherjee-1632484087720.webp"
rotate_angle = 45
rotate_image(image_path, rotate_angle)
