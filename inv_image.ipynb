import matplotlib.pyplot as plt
import numpy as np
from PIL import Image

def invert_image(image_path):
    # Open the image
    image = Image.open(image_path)
    
    # Convert the image to numpy array
    img_array = np.array(image)
    
    # Invert the image
    inverted_array = 255 - img_array
    
    # Plot original and inverted images side by side
    fig, axes = plt.subplots(1, 2, figsize=(10, 5))
    
    # Plot original image
    axes[0].imshow(img_array)
    axes[0].set_title('Original Image')
    axes[0].axis('off')
    
    # Plot inverted image
    axes[1].imshow(inverted_array)
    axes[1].set_title('Inverted Image')
    axes[1].axis('off')
    
    plt.show()

# Example usage
input_image_path = "/content/vincent-van-zalinge-vUNQaTtZeOo-unsplash.jpg"
invert_image(input_image_path)
