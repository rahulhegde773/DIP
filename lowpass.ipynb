import cv2
from google.colab.patches import cv2_imshow
import numpy as np

# Load the image
image = cv2.imread('/content/vincent-van-zalinge-vUNQaTtZeOo-unsplash.jpg')

# Check if the image is loaded successfully
if image is None:
    print("Error: Image not loaded")
    exit()

# Convert the image to grayscale
gray_image = cv2.cvtColor(image, cv2.COLOR_BGR2GRAY)

# Define the kernel for the low-pass filter (e.g., 3x3 averaging filter)
kernel = np.ones((3, 3), np.float32) / 9  # Normalized averaging filter

# Apply the low-pass filter using the cv2.filter2D() function
filtered_image = cv2.filter2D(gray_image, -1, kernel)

# Display the original and filtered images
cv2_imshow(gray_image)
cv2_imshow(filtered_image)
