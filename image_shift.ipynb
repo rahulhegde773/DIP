from PIL import Image
import matplotlib.pyplot as plt

def shift_image_center(image_path, new_center_x, new_center_y):
    # Open the image
    img = Image.open(image_path)
    
    # Calculate the translation values
    shift_x = new_center_x - img.width / 2
    shift_y = new_center_y - img.height / 2
    
    # Apply the translation transformation
    shifted_img = img.transform(
        img.size, 
        Image.AFFINE, 
        (1, 0, shift_x, 0, 1, shift_y),
        resample=Image.BICUBIC
    )

    # Display the original and shifted images using matplotlib
    fig, axes = plt.subplots(1, 2, figsize=(10, 5))
    
    axes[0].imshow(img)
    axes[0].set_title('Original Image')
    axes[0].axis('off')

    axes[1].imshow(shifted_img)
    axes[1].set_title('Shifted Image')
    axes[1].axis('off')
    
    plt.show()

    # Save the shifted image
    shifted_img.save("shifted_image.png")

# Example usage
image_path = "/content/common-kingfisher-dhritiman-mukherjee-1632484087720.webp"
new_center_x = 200  # Adjust the new x-coordinate of the center as needed
new_center_y = 200  # Adjust the new y-coordinate of the center as needed
shift_image_center(image_path, new_center_x, new_center_y)
