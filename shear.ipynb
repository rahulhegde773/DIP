from PIL import Image
import matplotlib.pyplot as plt

def shear_image(image_path, shear_horizontal, shear_vertical):
    # Open the image
    img = Image.open(image_path)
    
    # Apply horizontal shear
    sheared_horizontal = img.transform(
        img.size, 
        Image.AFFINE, 
        (1, shear_horizontal, 0, 0, 1, 0)
    )
    
    # Apply vertical shear
    sheared_vertical = img.transform(
        img.size, 
        Image.AFFINE, 
        (1, 0, 0, shear_vertical, 1, 0)
    )
    
    # Display the original and sheared images using matplotlib
    fig, axes = plt.subplots(1, 3, figsize=(15, 5))
    
    axes[0].imshow(img)
    axes[0].set_title('Original Image')
    axes[0].axis('off')

    axes[1].imshow(sheared_horizontal)
    axes[1].set_title('Sheared Horizontal')
    axes[1].axis('off')
    
    axes[2].imshow(sheared_vertical)
    axes[2].set_title('Sheared Vertical')
    axes[2].axis('off')
    
    plt.show()

    # Save the sheared images
    sheared_horizontal.save("sheared_horizontal.png")
    sheared_vertical.save("sheared_vertical.png")

# Example usage
image_path = "/content/common-kingfisher-dhritiman-mukherjee-1632484087720.webp"
shear_horizontal = 0.5  # Adjust the shear factor as needed
shear_vertical = 0.5  # Adjust the shear factor as needed
shear_image(image_path, shear_horizontal, shear_vertical)
